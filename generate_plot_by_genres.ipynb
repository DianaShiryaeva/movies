{
 "cells": [
  {
   "cell_type": "code",
   "execution_count": 1,
   "metadata": {
    "id": "_H1-ijhjIpco"
   },
   "outputs": [],
   "source": [
    "# Genre Pre-Processing\n",
    "\n",
    "import re\n",
    "import numpy as np\n",
    "import nltk\n",
    "from tqdm import tqdm"
   ]
  },
  {
   "cell_type": "code",
   "execution_count": 2,
   "metadata": {
    "id": "Vq7GQk_RXIWg"
   },
   "outputs": [],
   "source": [
    "import pandas as pd\n",
    "pd.options.mode.chained_assignment = None  # default='warn'"
   ]
  },
  {
   "cell_type": "code",
   "execution_count": null,
   "metadata": {
    "colab": {
     "base_uri": "https://localhost:8080/"
    },
    "id": "QaxC_UmwI31I",
    "outputId": "ad06880d-7a8e-41e8-a1f4-cbf31a741e62"
   },
   "outputs": [
    {
     "name": "stdout",
     "output_type": "stream",
     "text": [
      "Drive already mounted at /content/drive; to attempt to forcibly remount, call drive.mount(\"/content/drive\", force_remount=True).\n"
     ]
    }
   ],
   "source": [
    "# from google.colab import drive\n",
    "# drive.mount('/content/drive')"
   ]
  },
  {
   "cell_type": "code",
   "execution_count": null,
   "metadata": {
    "colab": {
     "base_uri": "https://localhost:8080/",
     "height": 423
    },
    "id": "bjjIJVGXI9px",
    "outputId": "550282ec-8886-434e-9006-37b9d1021c0e"
   },
   "outputs": [
    {
     "data": {
      "application/vnd.google.colaboratory.intrinsic+json": {
       "type": "dataframe",
       "variable_name": "full_df"
      },
      "text/html": [
       "\n",
       "  <div id=\"df-e34edbb0-52ea-462b-9b72-41e0d66aec59\" class=\"colab-df-container\">\n",
       "    <div>\n",
       "<style scoped>\n",
       "    .dataframe tbody tr th:only-of-type {\n",
       "        vertical-align: middle;\n",
       "    }\n",
       "\n",
       "    .dataframe tbody tr th {\n",
       "        vertical-align: top;\n",
       "    }\n",
       "\n",
       "    .dataframe thead th {\n",
       "        text-align: right;\n",
       "    }\n",
       "</style>\n",
       "<table border=\"1\" class=\"dataframe\">\n",
       "  <thead>\n",
       "    <tr style=\"text-align: right;\">\n",
       "      <th></th>\n",
       "      <th>Unnamed: 0</th>\n",
       "      <th>title</th>\n",
       "      <th>overview</th>\n",
       "      <th>genres</th>\n",
       "    </tr>\n",
       "  </thead>\n",
       "  <tbody>\n",
       "    <tr>\n",
       "      <th>0</th>\n",
       "      <td>0</td>\n",
       "      <td>Ariel</td>\n",
       "      <td>After the coal mine he works at closes and his...</td>\n",
       "      <td>Comedy, Drama, Romance, Crime</td>\n",
       "    </tr>\n",
       "    <tr>\n",
       "      <th>1</th>\n",
       "      <td>1</td>\n",
       "      <td>Shadows in Paradise</td>\n",
       "      <td>Nikander, a rubbish collector and would-be ent...</td>\n",
       "      <td>Comedy, Drama, Romance</td>\n",
       "    </tr>\n",
       "    <tr>\n",
       "      <th>2</th>\n",
       "      <td>2</td>\n",
       "      <td>Four Rooms</td>\n",
       "      <td>It's Ted the Bellhop's first night on the job....</td>\n",
       "      <td>Comedy</td>\n",
       "    </tr>\n",
       "    <tr>\n",
       "      <th>3</th>\n",
       "      <td>3</td>\n",
       "      <td>Judgment Night</td>\n",
       "      <td>Four young friends, while taking a shortcut en...</td>\n",
       "      <td>Action, Crime, Thriller</td>\n",
       "    </tr>\n",
       "    <tr>\n",
       "      <th>4</th>\n",
       "      <td>4</td>\n",
       "      <td>Life in Loops (A Megacities RMX)</td>\n",
       "      <td>Timo Novotny labels his new project an experim...</td>\n",
       "      <td>Documentary</td>\n",
       "    </tr>\n",
       "    <tr>\n",
       "      <th>...</th>\n",
       "      <td>...</td>\n",
       "      <td>...</td>\n",
       "      <td>...</td>\n",
       "      <td>...</td>\n",
       "    </tr>\n",
       "    <tr>\n",
       "      <th>613020</th>\n",
       "      <td>1017531</td>\n",
       "      <td>Agnidahan</td>\n",
       "      <td>A social drama on the issue of accusing women ...</td>\n",
       "      <td>Drama</td>\n",
       "    </tr>\n",
       "    <tr>\n",
       "      <th>613021</th>\n",
       "      <td>1017532</td>\n",
       "      <td>Serf</td>\n",
       "      <td>A story about a girl, fed up with her room-mat...</td>\n",
       "      <td>Comedy</td>\n",
       "    </tr>\n",
       "    <tr>\n",
       "      <th>613022</th>\n",
       "      <td>1017533</td>\n",
       "      <td>Triangle</td>\n",
       "      <td>An untold perspective that captures the feelin...</td>\n",
       "      <td>Drama</td>\n",
       "    </tr>\n",
       "    <tr>\n",
       "      <th>613023</th>\n",
       "      <td>1017536</td>\n",
       "      <td>The Last Tape</td>\n",
       "      <td>Beckett's \"Krapp's Last Tape\" produced by Hung...</td>\n",
       "      <td>TV Movie, Drama</td>\n",
       "    </tr>\n",
       "    <tr>\n",
       "      <th>613024</th>\n",
       "      <td>1017538</td>\n",
       "      <td>The Salmon’s Call</td>\n",
       "      <td>The Salmon's Call is a powerful documentary th...</td>\n",
       "      <td>Documentary</td>\n",
       "    </tr>\n",
       "  </tbody>\n",
       "</table>\n",
       "<p>613025 rows × 4 columns</p>\n",
       "</div>\n",
       "    <div class=\"colab-df-buttons\">\n",
       "\n",
       "  <div class=\"colab-df-container\">\n",
       "    <button class=\"colab-df-convert\" onclick=\"convertToInteractive('df-e34edbb0-52ea-462b-9b72-41e0d66aec59')\"\n",
       "            title=\"Convert this dataframe to an interactive table.\"\n",
       "            style=\"display:none;\">\n",
       "\n",
       "  <svg xmlns=\"http://www.w3.org/2000/svg\" height=\"24px\" viewBox=\"0 -960 960 960\">\n",
       "    <path d=\"M120-120v-720h720v720H120Zm60-500h600v-160H180v160Zm220 220h160v-160H400v160Zm0 220h160v-160H400v160ZM180-400h160v-160H180v160Zm440 0h160v-160H620v160ZM180-180h160v-160H180v160Zm440 0h160v-160H620v160Z\"/>\n",
       "  </svg>\n",
       "    </button>\n",
       "\n",
       "  <style>\n",
       "    .colab-df-container {\n",
       "      display:flex;\n",
       "      gap: 12px;\n",
       "    }\n",
       "\n",
       "    .colab-df-convert {\n",
       "      background-color: #E8F0FE;\n",
       "      border: none;\n",
       "      border-radius: 50%;\n",
       "      cursor: pointer;\n",
       "      display: none;\n",
       "      fill: #1967D2;\n",
       "      height: 32px;\n",
       "      padding: 0 0 0 0;\n",
       "      width: 32px;\n",
       "    }\n",
       "\n",
       "    .colab-df-convert:hover {\n",
       "      background-color: #E2EBFA;\n",
       "      box-shadow: 0px 1px 2px rgba(60, 64, 67, 0.3), 0px 1px 3px 1px rgba(60, 64, 67, 0.15);\n",
       "      fill: #174EA6;\n",
       "    }\n",
       "\n",
       "    .colab-df-buttons div {\n",
       "      margin-bottom: 4px;\n",
       "    }\n",
       "\n",
       "    [theme=dark] .colab-df-convert {\n",
       "      background-color: #3B4455;\n",
       "      fill: #D2E3FC;\n",
       "    }\n",
       "\n",
       "    [theme=dark] .colab-df-convert:hover {\n",
       "      background-color: #434B5C;\n",
       "      box-shadow: 0px 1px 3px 1px rgba(0, 0, 0, 0.15);\n",
       "      filter: drop-shadow(0px 1px 2px rgba(0, 0, 0, 0.3));\n",
       "      fill: #FFFFFF;\n",
       "    }\n",
       "  </style>\n",
       "\n",
       "    <script>\n",
       "      const buttonEl =\n",
       "        document.querySelector('#df-e34edbb0-52ea-462b-9b72-41e0d66aec59 button.colab-df-convert');\n",
       "      buttonEl.style.display =\n",
       "        google.colab.kernel.accessAllowed ? 'block' : 'none';\n",
       "\n",
       "      async function convertToInteractive(key) {\n",
       "        const element = document.querySelector('#df-e34edbb0-52ea-462b-9b72-41e0d66aec59');\n",
       "        const dataTable =\n",
       "          await google.colab.kernel.invokeFunction('convertToInteractive',\n",
       "                                                    [key], {});\n",
       "        if (!dataTable) return;\n",
       "\n",
       "        const docLinkHtml = 'Like what you see? Visit the ' +\n",
       "          '<a target=\"_blank\" href=https://colab.research.google.com/notebooks/data_table.ipynb>data table notebook</a>'\n",
       "          + ' to learn more about interactive tables.';\n",
       "        element.innerHTML = '';\n",
       "        dataTable['output_type'] = 'display_data';\n",
       "        await google.colab.output.renderOutput(dataTable, element);\n",
       "        const docLink = document.createElement('div');\n",
       "        docLink.innerHTML = docLinkHtml;\n",
       "        element.appendChild(docLink);\n",
       "      }\n",
       "    </script>\n",
       "  </div>\n",
       "\n",
       "\n",
       "<div id=\"df-e202277d-a97c-44dd-b998-a0f55c48c5fe\">\n",
       "  <button class=\"colab-df-quickchart\" onclick=\"quickchart('df-e202277d-a97c-44dd-b998-a0f55c48c5fe')\"\n",
       "            title=\"Suggest charts\"\n",
       "            style=\"display:none;\">\n",
       "\n",
       "<svg xmlns=\"http://www.w3.org/2000/svg\" height=\"24px\"viewBox=\"0 0 24 24\"\n",
       "     width=\"24px\">\n",
       "    <g>\n",
       "        <path d=\"M19 3H5c-1.1 0-2 .9-2 2v14c0 1.1.9 2 2 2h14c1.1 0 2-.9 2-2V5c0-1.1-.9-2-2-2zM9 17H7v-7h2v7zm4 0h-2V7h2v10zm4 0h-2v-4h2v4z\"/>\n",
       "    </g>\n",
       "</svg>\n",
       "  </button>\n",
       "\n",
       "<style>\n",
       "  .colab-df-quickchart {\n",
       "      --bg-color: #E8F0FE;\n",
       "      --fill-color: #1967D2;\n",
       "      --hover-bg-color: #E2EBFA;\n",
       "      --hover-fill-color: #174EA6;\n",
       "      --disabled-fill-color: #AAA;\n",
       "      --disabled-bg-color: #DDD;\n",
       "  }\n",
       "\n",
       "  [theme=dark] .colab-df-quickchart {\n",
       "      --bg-color: #3B4455;\n",
       "      --fill-color: #D2E3FC;\n",
       "      --hover-bg-color: #434B5C;\n",
       "      --hover-fill-color: #FFFFFF;\n",
       "      --disabled-bg-color: #3B4455;\n",
       "      --disabled-fill-color: #666;\n",
       "  }\n",
       "\n",
       "  .colab-df-quickchart {\n",
       "    background-color: var(--bg-color);\n",
       "    border: none;\n",
       "    border-radius: 50%;\n",
       "    cursor: pointer;\n",
       "    display: none;\n",
       "    fill: var(--fill-color);\n",
       "    height: 32px;\n",
       "    padding: 0;\n",
       "    width: 32px;\n",
       "  }\n",
       "\n",
       "  .colab-df-quickchart:hover {\n",
       "    background-color: var(--hover-bg-color);\n",
       "    box-shadow: 0 1px 2px rgba(60, 64, 67, 0.3), 0 1px 3px 1px rgba(60, 64, 67, 0.15);\n",
       "    fill: var(--button-hover-fill-color);\n",
       "  }\n",
       "\n",
       "  .colab-df-quickchart-complete:disabled,\n",
       "  .colab-df-quickchart-complete:disabled:hover {\n",
       "    background-color: var(--disabled-bg-color);\n",
       "    fill: var(--disabled-fill-color);\n",
       "    box-shadow: none;\n",
       "  }\n",
       "\n",
       "  .colab-df-spinner {\n",
       "    border: 2px solid var(--fill-color);\n",
       "    border-color: transparent;\n",
       "    border-bottom-color: var(--fill-color);\n",
       "    animation:\n",
       "      spin 1s steps(1) infinite;\n",
       "  }\n",
       "\n",
       "  @keyframes spin {\n",
       "    0% {\n",
       "      border-color: transparent;\n",
       "      border-bottom-color: var(--fill-color);\n",
       "      border-left-color: var(--fill-color);\n",
       "    }\n",
       "    20% {\n",
       "      border-color: transparent;\n",
       "      border-left-color: var(--fill-color);\n",
       "      border-top-color: var(--fill-color);\n",
       "    }\n",
       "    30% {\n",
       "      border-color: transparent;\n",
       "      border-left-color: var(--fill-color);\n",
       "      border-top-color: var(--fill-color);\n",
       "      border-right-color: var(--fill-color);\n",
       "    }\n",
       "    40% {\n",
       "      border-color: transparent;\n",
       "      border-right-color: var(--fill-color);\n",
       "      border-top-color: var(--fill-color);\n",
       "    }\n",
       "    60% {\n",
       "      border-color: transparent;\n",
       "      border-right-color: var(--fill-color);\n",
       "    }\n",
       "    80% {\n",
       "      border-color: transparent;\n",
       "      border-right-color: var(--fill-color);\n",
       "      border-bottom-color: var(--fill-color);\n",
       "    }\n",
       "    90% {\n",
       "      border-color: transparent;\n",
       "      border-bottom-color: var(--fill-color);\n",
       "    }\n",
       "  }\n",
       "</style>\n",
       "\n",
       "  <script>\n",
       "    async function quickchart(key) {\n",
       "      const quickchartButtonEl =\n",
       "        document.querySelector('#' + key + ' button');\n",
       "      quickchartButtonEl.disabled = true;  // To prevent multiple clicks.\n",
       "      quickchartButtonEl.classList.add('colab-df-spinner');\n",
       "      try {\n",
       "        const charts = await google.colab.kernel.invokeFunction(\n",
       "            'suggestCharts', [key], {});\n",
       "      } catch (error) {\n",
       "        console.error('Error during call to suggestCharts:', error);\n",
       "      }\n",
       "      quickchartButtonEl.classList.remove('colab-df-spinner');\n",
       "      quickchartButtonEl.classList.add('colab-df-quickchart-complete');\n",
       "    }\n",
       "    (() => {\n",
       "      let quickchartButtonEl =\n",
       "        document.querySelector('#df-e202277d-a97c-44dd-b998-a0f55c48c5fe button');\n",
       "      quickchartButtonEl.style.display =\n",
       "        google.colab.kernel.accessAllowed ? 'block' : 'none';\n",
       "    })();\n",
       "  </script>\n",
       "</div>\n",
       "    </div>\n",
       "  </div>\n"
      ],
      "text/plain": [
       "        Unnamed: 0                             title  \\\n",
       "0                0                             Ariel   \n",
       "1                1               Shadows in Paradise   \n",
       "2                2                        Four Rooms   \n",
       "3                3                    Judgment Night   \n",
       "4                4  Life in Loops (A Megacities RMX)   \n",
       "...            ...                               ...   \n",
       "613020     1017531                         Agnidahan   \n",
       "613021     1017532                              Serf   \n",
       "613022     1017533                          Triangle   \n",
       "613023     1017536                     The Last Tape   \n",
       "613024     1017538                 The Salmon’s Call   \n",
       "\n",
       "                                                 overview  \\\n",
       "0       After the coal mine he works at closes and his...   \n",
       "1       Nikander, a rubbish collector and would-be ent...   \n",
       "2       It's Ted the Bellhop's first night on the job....   \n",
       "3       Four young friends, while taking a shortcut en...   \n",
       "4       Timo Novotny labels his new project an experim...   \n",
       "...                                                   ...   \n",
       "613020  A social drama on the issue of accusing women ...   \n",
       "613021  A story about a girl, fed up with her room-mat...   \n",
       "613022  An untold perspective that captures the feelin...   \n",
       "613023  Beckett's \"Krapp's Last Tape\" produced by Hung...   \n",
       "613024  The Salmon's Call is a powerful documentary th...   \n",
       "\n",
       "                               genres  \n",
       "0       Comedy, Drama, Romance, Crime  \n",
       "1              Comedy, Drama, Romance  \n",
       "2                              Comedy  \n",
       "3             Action, Crime, Thriller  \n",
       "4                         Documentary  \n",
       "...                               ...  \n",
       "613020                          Drama  \n",
       "613021                         Comedy  \n",
       "613022                          Drama  \n",
       "613023                TV Movie, Drama  \n",
       "613024                    Documentary  \n",
       "\n",
       "[613025 rows x 4 columns]"
      ]
     },
     "execution_count": 5,
     "metadata": {},
     "output_type": "execute_result"
    }
   ],
   "source": [
    "filename = 'inputs/dataset_movies.csv.csv'\n",
    "path = filename\n",
    "full_df = pd.read_csv(path)\n",
    "full_df"
   ]
  },
  {
   "cell_type": "code",
   "execution_count": 6,
   "metadata": {
    "colab": {
     "base_uri": "https://localhost:8080/",
     "height": 423
    },
    "id": "klXPZGvOMHmQ",
    "outputId": "7d4166c6-e1c4-4aac-b734-0f4b220c2d57"
   },
   "outputs": [
    {
     "data": {
      "application/vnd.google.colaboratory.intrinsic+json": {
       "type": "dataframe",
       "variable_name": "df"
      },
      "text/html": [
       "\n",
       "  <div id=\"df-936cd9e6-f7d1-48ed-adc8-9b2dcfa3a317\" class=\"colab-df-container\">\n",
       "    <div>\n",
       "<style scoped>\n",
       "    .dataframe tbody tr th:only-of-type {\n",
       "        vertical-align: middle;\n",
       "    }\n",
       "\n",
       "    .dataframe tbody tr th {\n",
       "        vertical-align: top;\n",
       "    }\n",
       "\n",
       "    .dataframe thead th {\n",
       "        text-align: right;\n",
       "    }\n",
       "</style>\n",
       "<table border=\"1\" class=\"dataframe\">\n",
       "  <thead>\n",
       "    <tr style=\"text-align: right;\">\n",
       "      <th></th>\n",
       "      <th>title</th>\n",
       "      <th>genres</th>\n",
       "      <th>overview</th>\n",
       "    </tr>\n",
       "  </thead>\n",
       "  <tbody>\n",
       "    <tr>\n",
       "      <th>0</th>\n",
       "      <td>Ariel</td>\n",
       "      <td>Comedy, Drama, Romance, Crime</td>\n",
       "      <td>After the coal mine he works at closes and his...</td>\n",
       "    </tr>\n",
       "    <tr>\n",
       "      <th>1</th>\n",
       "      <td>Shadows in Paradise</td>\n",
       "      <td>Comedy, Drama, Romance</td>\n",
       "      <td>Nikander, a rubbish collector and would-be ent...</td>\n",
       "    </tr>\n",
       "    <tr>\n",
       "      <th>2</th>\n",
       "      <td>Four Rooms</td>\n",
       "      <td>Comedy</td>\n",
       "      <td>It's Ted the Bellhop's first night on the job....</td>\n",
       "    </tr>\n",
       "    <tr>\n",
       "      <th>3</th>\n",
       "      <td>Judgment Night</td>\n",
       "      <td>Action, Crime, Thriller</td>\n",
       "      <td>Four young friends, while taking a shortcut en...</td>\n",
       "    </tr>\n",
       "    <tr>\n",
       "      <th>4</th>\n",
       "      <td>Life in Loops (A Megacities RMX)</td>\n",
       "      <td>Documentary</td>\n",
       "      <td>Timo Novotny labels his new project an experim...</td>\n",
       "    </tr>\n",
       "    <tr>\n",
       "      <th>...</th>\n",
       "      <td>...</td>\n",
       "      <td>...</td>\n",
       "      <td>...</td>\n",
       "    </tr>\n",
       "    <tr>\n",
       "      <th>613020</th>\n",
       "      <td>Agnidahan</td>\n",
       "      <td>Drama</td>\n",
       "      <td>A social drama on the issue of accusing women ...</td>\n",
       "    </tr>\n",
       "    <tr>\n",
       "      <th>613021</th>\n",
       "      <td>Serf</td>\n",
       "      <td>Comedy</td>\n",
       "      <td>A story about a girl, fed up with her room-mat...</td>\n",
       "    </tr>\n",
       "    <tr>\n",
       "      <th>613022</th>\n",
       "      <td>Triangle</td>\n",
       "      <td>Drama</td>\n",
       "      <td>An untold perspective that captures the feelin...</td>\n",
       "    </tr>\n",
       "    <tr>\n",
       "      <th>613023</th>\n",
       "      <td>The Last Tape</td>\n",
       "      <td>TV Movie, Drama</td>\n",
       "      <td>Beckett's \"Krapp's Last Tape\" produced by Hung...</td>\n",
       "    </tr>\n",
       "    <tr>\n",
       "      <th>613024</th>\n",
       "      <td>The Salmon’s Call</td>\n",
       "      <td>Documentary</td>\n",
       "      <td>The Salmon's Call is a powerful documentary th...</td>\n",
       "    </tr>\n",
       "  </tbody>\n",
       "</table>\n",
       "<p>613025 rows × 3 columns</p>\n",
       "</div>\n",
       "    <div class=\"colab-df-buttons\">\n",
       "\n",
       "  <div class=\"colab-df-container\">\n",
       "    <button class=\"colab-df-convert\" onclick=\"convertToInteractive('df-936cd9e6-f7d1-48ed-adc8-9b2dcfa3a317')\"\n",
       "            title=\"Convert this dataframe to an interactive table.\"\n",
       "            style=\"display:none;\">\n",
       "\n",
       "  <svg xmlns=\"http://www.w3.org/2000/svg\" height=\"24px\" viewBox=\"0 -960 960 960\">\n",
       "    <path d=\"M120-120v-720h720v720H120Zm60-500h600v-160H180v160Zm220 220h160v-160H400v160Zm0 220h160v-160H400v160ZM180-400h160v-160H180v160Zm440 0h160v-160H620v160ZM180-180h160v-160H180v160Zm440 0h160v-160H620v160Z\"/>\n",
       "  </svg>\n",
       "    </button>\n",
       "\n",
       "  <style>\n",
       "    .colab-df-container {\n",
       "      display:flex;\n",
       "      gap: 12px;\n",
       "    }\n",
       "\n",
       "    .colab-df-convert {\n",
       "      background-color: #E8F0FE;\n",
       "      border: none;\n",
       "      border-radius: 50%;\n",
       "      cursor: pointer;\n",
       "      display: none;\n",
       "      fill: #1967D2;\n",
       "      height: 32px;\n",
       "      padding: 0 0 0 0;\n",
       "      width: 32px;\n",
       "    }\n",
       "\n",
       "    .colab-df-convert:hover {\n",
       "      background-color: #E2EBFA;\n",
       "      box-shadow: 0px 1px 2px rgba(60, 64, 67, 0.3), 0px 1px 3px 1px rgba(60, 64, 67, 0.15);\n",
       "      fill: #174EA6;\n",
       "    }\n",
       "\n",
       "    .colab-df-buttons div {\n",
       "      margin-bottom: 4px;\n",
       "    }\n",
       "\n",
       "    [theme=dark] .colab-df-convert {\n",
       "      background-color: #3B4455;\n",
       "      fill: #D2E3FC;\n",
       "    }\n",
       "\n",
       "    [theme=dark] .colab-df-convert:hover {\n",
       "      background-color: #434B5C;\n",
       "      box-shadow: 0px 1px 3px 1px rgba(0, 0, 0, 0.15);\n",
       "      filter: drop-shadow(0px 1px 2px rgba(0, 0, 0, 0.3));\n",
       "      fill: #FFFFFF;\n",
       "    }\n",
       "  </style>\n",
       "\n",
       "    <script>\n",
       "      const buttonEl =\n",
       "        document.querySelector('#df-936cd9e6-f7d1-48ed-adc8-9b2dcfa3a317 button.colab-df-convert');\n",
       "      buttonEl.style.display =\n",
       "        google.colab.kernel.accessAllowed ? 'block' : 'none';\n",
       "\n",
       "      async function convertToInteractive(key) {\n",
       "        const element = document.querySelector('#df-936cd9e6-f7d1-48ed-adc8-9b2dcfa3a317');\n",
       "        const dataTable =\n",
       "          await google.colab.kernel.invokeFunction('convertToInteractive',\n",
       "                                                    [key], {});\n",
       "        if (!dataTable) return;\n",
       "\n",
       "        const docLinkHtml = 'Like what you see? Visit the ' +\n",
       "          '<a target=\"_blank\" href=https://colab.research.google.com/notebooks/data_table.ipynb>data table notebook</a>'\n",
       "          + ' to learn more about interactive tables.';\n",
       "        element.innerHTML = '';\n",
       "        dataTable['output_type'] = 'display_data';\n",
       "        await google.colab.output.renderOutput(dataTable, element);\n",
       "        const docLink = document.createElement('div');\n",
       "        docLink.innerHTML = docLinkHtml;\n",
       "        element.appendChild(docLink);\n",
       "      }\n",
       "    </script>\n",
       "  </div>\n",
       "\n",
       "\n",
       "<div id=\"df-a19c2a15-f55c-46d7-a94b-8fff79a92ec0\">\n",
       "  <button class=\"colab-df-quickchart\" onclick=\"quickchart('df-a19c2a15-f55c-46d7-a94b-8fff79a92ec0')\"\n",
       "            title=\"Suggest charts\"\n",
       "            style=\"display:none;\">\n",
       "\n",
       "<svg xmlns=\"http://www.w3.org/2000/svg\" height=\"24px\"viewBox=\"0 0 24 24\"\n",
       "     width=\"24px\">\n",
       "    <g>\n",
       "        <path d=\"M19 3H5c-1.1 0-2 .9-2 2v14c0 1.1.9 2 2 2h14c1.1 0 2-.9 2-2V5c0-1.1-.9-2-2-2zM9 17H7v-7h2v7zm4 0h-2V7h2v10zm4 0h-2v-4h2v4z\"/>\n",
       "    </g>\n",
       "</svg>\n",
       "  </button>\n",
       "\n",
       "<style>\n",
       "  .colab-df-quickchart {\n",
       "      --bg-color: #E8F0FE;\n",
       "      --fill-color: #1967D2;\n",
       "      --hover-bg-color: #E2EBFA;\n",
       "      --hover-fill-color: #174EA6;\n",
       "      --disabled-fill-color: #AAA;\n",
       "      --disabled-bg-color: #DDD;\n",
       "  }\n",
       "\n",
       "  [theme=dark] .colab-df-quickchart {\n",
       "      --bg-color: #3B4455;\n",
       "      --fill-color: #D2E3FC;\n",
       "      --hover-bg-color: #434B5C;\n",
       "      --hover-fill-color: #FFFFFF;\n",
       "      --disabled-bg-color: #3B4455;\n",
       "      --disabled-fill-color: #666;\n",
       "  }\n",
       "\n",
       "  .colab-df-quickchart {\n",
       "    background-color: var(--bg-color);\n",
       "    border: none;\n",
       "    border-radius: 50%;\n",
       "    cursor: pointer;\n",
       "    display: none;\n",
       "    fill: var(--fill-color);\n",
       "    height: 32px;\n",
       "    padding: 0;\n",
       "    width: 32px;\n",
       "  }\n",
       "\n",
       "  .colab-df-quickchart:hover {\n",
       "    background-color: var(--hover-bg-color);\n",
       "    box-shadow: 0 1px 2px rgba(60, 64, 67, 0.3), 0 1px 3px 1px rgba(60, 64, 67, 0.15);\n",
       "    fill: var(--button-hover-fill-color);\n",
       "  }\n",
       "\n",
       "  .colab-df-quickchart-complete:disabled,\n",
       "  .colab-df-quickchart-complete:disabled:hover {\n",
       "    background-color: var(--disabled-bg-color);\n",
       "    fill: var(--disabled-fill-color);\n",
       "    box-shadow: none;\n",
       "  }\n",
       "\n",
       "  .colab-df-spinner {\n",
       "    border: 2px solid var(--fill-color);\n",
       "    border-color: transparent;\n",
       "    border-bottom-color: var(--fill-color);\n",
       "    animation:\n",
       "      spin 1s steps(1) infinite;\n",
       "  }\n",
       "\n",
       "  @keyframes spin {\n",
       "    0% {\n",
       "      border-color: transparent;\n",
       "      border-bottom-color: var(--fill-color);\n",
       "      border-left-color: var(--fill-color);\n",
       "    }\n",
       "    20% {\n",
       "      border-color: transparent;\n",
       "      border-left-color: var(--fill-color);\n",
       "      border-top-color: var(--fill-color);\n",
       "    }\n",
       "    30% {\n",
       "      border-color: transparent;\n",
       "      border-left-color: var(--fill-color);\n",
       "      border-top-color: var(--fill-color);\n",
       "      border-right-color: var(--fill-color);\n",
       "    }\n",
       "    40% {\n",
       "      border-color: transparent;\n",
       "      border-right-color: var(--fill-color);\n",
       "      border-top-color: var(--fill-color);\n",
       "    }\n",
       "    60% {\n",
       "      border-color: transparent;\n",
       "      border-right-color: var(--fill-color);\n",
       "    }\n",
       "    80% {\n",
       "      border-color: transparent;\n",
       "      border-right-color: var(--fill-color);\n",
       "      border-bottom-color: var(--fill-color);\n",
       "    }\n",
       "    90% {\n",
       "      border-color: transparent;\n",
       "      border-bottom-color: var(--fill-color);\n",
       "    }\n",
       "  }\n",
       "</style>\n",
       "\n",
       "  <script>\n",
       "    async function quickchart(key) {\n",
       "      const quickchartButtonEl =\n",
       "        document.querySelector('#' + key + ' button');\n",
       "      quickchartButtonEl.disabled = true;  // To prevent multiple clicks.\n",
       "      quickchartButtonEl.classList.add('colab-df-spinner');\n",
       "      try {\n",
       "        const charts = await google.colab.kernel.invokeFunction(\n",
       "            'suggestCharts', [key], {});\n",
       "      } catch (error) {\n",
       "        console.error('Error during call to suggestCharts:', error);\n",
       "      }\n",
       "      quickchartButtonEl.classList.remove('colab-df-spinner');\n",
       "      quickchartButtonEl.classList.add('colab-df-quickchart-complete');\n",
       "    }\n",
       "    (() => {\n",
       "      let quickchartButtonEl =\n",
       "        document.querySelector('#df-a19c2a15-f55c-46d7-a94b-8fff79a92ec0 button');\n",
       "      quickchartButtonEl.style.display =\n",
       "        google.colab.kernel.accessAllowed ? 'block' : 'none';\n",
       "    })();\n",
       "  </script>\n",
       "</div>\n",
       "    </div>\n",
       "  </div>\n"
      ],
      "text/plain": [
       "                                   title                         genres  \\\n",
       "0                                  Ariel  Comedy, Drama, Romance, Crime   \n",
       "1                    Shadows in Paradise         Comedy, Drama, Romance   \n",
       "2                             Four Rooms                         Comedy   \n",
       "3                         Judgment Night        Action, Crime, Thriller   \n",
       "4       Life in Loops (A Megacities RMX)                    Documentary   \n",
       "...                                  ...                            ...   \n",
       "613020                         Agnidahan                          Drama   \n",
       "613021                              Serf                         Comedy   \n",
       "613022                          Triangle                          Drama   \n",
       "613023                     The Last Tape                TV Movie, Drama   \n",
       "613024                 The Salmon’s Call                    Documentary   \n",
       "\n",
       "                                                 overview  \n",
       "0       After the coal mine he works at closes and his...  \n",
       "1       Nikander, a rubbish collector and would-be ent...  \n",
       "2       It's Ted the Bellhop's first night on the job....  \n",
       "3       Four young friends, while taking a shortcut en...  \n",
       "4       Timo Novotny labels his new project an experim...  \n",
       "...                                                   ...  \n",
       "613020  A social drama on the issue of accusing women ...  \n",
       "613021  A story about a girl, fed up with her room-mat...  \n",
       "613022  An untold perspective that captures the feelin...  \n",
       "613023  Beckett's \"Krapp's Last Tape\" produced by Hung...  \n",
       "613024  The Salmon's Call is a powerful documentary th...  \n",
       "\n",
       "[613025 rows x 3 columns]"
      ]
     },
     "execution_count": 6,
     "metadata": {},
     "output_type": "execute_result"
    }
   ],
   "source": [
    "df = full_df[['title', 'genres', 'overview']]\n",
    "df"
   ]
  },
  {
   "cell_type": "code",
   "execution_count": 8,
   "metadata": {
    "colab": {
     "base_uri": "https://localhost:8080/",
     "height": 489
    },
    "id": "2NCdiNMRI9tT",
    "outputId": "4d2d5553-25bf-4ad0-a530-4fec6324bfda"
   },
   "outputs": [
    {
     "data": {
      "text/html": [
       "<div>\n",
       "<style scoped>\n",
       "    .dataframe tbody tr th:only-of-type {\n",
       "        vertical-align: middle;\n",
       "    }\n",
       "\n",
       "    .dataframe tbody tr th {\n",
       "        vertical-align: top;\n",
       "    }\n",
       "\n",
       "    .dataframe thead th {\n",
       "        text-align: right;\n",
       "    }\n",
       "</style>\n",
       "<table border=\"1\" class=\"dataframe\">\n",
       "  <thead>\n",
       "    <tr style=\"text-align: right;\">\n",
       "      <th></th>\n",
       "      <th>count</th>\n",
       "    </tr>\n",
       "    <tr>\n",
       "      <th>genres</th>\n",
       "      <th></th>\n",
       "    </tr>\n",
       "  </thead>\n",
       "  <tbody>\n",
       "    <tr>\n",
       "      <th>Documentary</th>\n",
       "      <td>118661</td>\n",
       "    </tr>\n",
       "    <tr>\n",
       "      <th>Drama</th>\n",
       "      <td>91520</td>\n",
       "    </tr>\n",
       "    <tr>\n",
       "      <th>Comedy</th>\n",
       "      <td>46008</td>\n",
       "    </tr>\n",
       "    <tr>\n",
       "      <th>Animation</th>\n",
       "      <td>28922</td>\n",
       "    </tr>\n",
       "    <tr>\n",
       "      <th>Horror</th>\n",
       "      <td>22518</td>\n",
       "    </tr>\n",
       "    <tr>\n",
       "      <th>...</th>\n",
       "      <td>...</td>\n",
       "    </tr>\n",
       "    <tr>\n",
       "      <th>Action, Comedy, Crime, Mystery, Science Fiction</th>\n",
       "      <td>1</td>\n",
       "    </tr>\n",
       "    <tr>\n",
       "      <th>War, Drama, Documentary, History</th>\n",
       "      <td>1</td>\n",
       "    </tr>\n",
       "    <tr>\n",
       "      <th>Adventure, Action, Science Fiction, Family</th>\n",
       "      <td>1</td>\n",
       "    </tr>\n",
       "    <tr>\n",
       "      <th>Family, Fantasy, Science Fiction, TV Movie</th>\n",
       "      <td>1</td>\n",
       "    </tr>\n",
       "    <tr>\n",
       "      <th>Animation, Action, Adventure, TV Movie, Music</th>\n",
       "      <td>1</td>\n",
       "    </tr>\n",
       "  </tbody>\n",
       "</table>\n",
       "<p>13680 rows × 1 columns</p>\n",
       "</div><br><label><b>dtype:</b> int64</label>"
      ],
      "text/plain": [
       "genres\n",
       "Documentary                                        118661\n",
       "Drama                                               91520\n",
       "Comedy                                              46008\n",
       "Animation                                           28922\n",
       "Horror                                              22518\n",
       "                                                    ...  \n",
       "Action, Comedy, Crime, Mystery, Science Fiction         1\n",
       "War, Drama, Documentary, History                        1\n",
       "Adventure, Action, Science Fiction, Family              1\n",
       "Family, Fantasy, Science Fiction, TV Movie              1\n",
       "Animation, Action, Adventure, TV Movie, Music           1\n",
       "Name: count, Length: 13680, dtype: int64"
      ]
     },
     "execution_count": 8,
     "metadata": {},
     "output_type": "execute_result"
    }
   ],
   "source": [
    "df['genres'].value_counts()"
   ]
  },
  {
   "cell_type": "code",
   "execution_count": 9,
   "metadata": {
    "colab": {
     "base_uri": "https://localhost:8080/",
     "height": 458
    },
    "id": "8D3vNwxTMyIH",
    "outputId": "96e933d5-0534-4ca3-9d0b-e86f332b6867"
   },
   "outputs": [
    {
     "data": {
      "text/html": [
       "<div>\n",
       "<style scoped>\n",
       "    .dataframe tbody tr th:only-of-type {\n",
       "        vertical-align: middle;\n",
       "    }\n",
       "\n",
       "    .dataframe tbody tr th {\n",
       "        vertical-align: top;\n",
       "    }\n",
       "\n",
       "    .dataframe thead th {\n",
       "        text-align: right;\n",
       "    }\n",
       "</style>\n",
       "<table border=\"1\" class=\"dataframe\">\n",
       "  <thead>\n",
       "    <tr style=\"text-align: right;\">\n",
       "      <th></th>\n",
       "      <th>genres</th>\n",
       "    </tr>\n",
       "  </thead>\n",
       "  <tbody>\n",
       "    <tr>\n",
       "      <th>0</th>\n",
       "      <td>[Comedy, Drama, Romance, Crime]</td>\n",
       "    </tr>\n",
       "    <tr>\n",
       "      <th>1</th>\n",
       "      <td>[Comedy, Drama, Romance]</td>\n",
       "    </tr>\n",
       "    <tr>\n",
       "      <th>2</th>\n",
       "      <td>[Comedy]</td>\n",
       "    </tr>\n",
       "    <tr>\n",
       "      <th>3</th>\n",
       "      <td>[Action, Crime, Thriller]</td>\n",
       "    </tr>\n",
       "    <tr>\n",
       "      <th>4</th>\n",
       "      <td>[Documentary]</td>\n",
       "    </tr>\n",
       "    <tr>\n",
       "      <th>...</th>\n",
       "      <td>...</td>\n",
       "    </tr>\n",
       "    <tr>\n",
       "      <th>613020</th>\n",
       "      <td>[Drama]</td>\n",
       "    </tr>\n",
       "    <tr>\n",
       "      <th>613021</th>\n",
       "      <td>[Comedy]</td>\n",
       "    </tr>\n",
       "    <tr>\n",
       "      <th>613022</th>\n",
       "      <td>[Drama]</td>\n",
       "    </tr>\n",
       "    <tr>\n",
       "      <th>613023</th>\n",
       "      <td>[TV Movie, Drama]</td>\n",
       "    </tr>\n",
       "    <tr>\n",
       "      <th>613024</th>\n",
       "      <td>[Documentary]</td>\n",
       "    </tr>\n",
       "  </tbody>\n",
       "</table>\n",
       "<p>613025 rows × 1 columns</p>\n",
       "</div><br><label><b>dtype:</b> object</label>"
      ],
      "text/plain": [
       "0         [Comedy, Drama, Romance, Crime]\n",
       "1                [Comedy, Drama, Romance]\n",
       "2                                [Comedy]\n",
       "3               [Action, Crime, Thriller]\n",
       "4                           [Documentary]\n",
       "                       ...               \n",
       "613020                            [Drama]\n",
       "613021                           [Comedy]\n",
       "613022                            [Drama]\n",
       "613023                  [TV Movie, Drama]\n",
       "613024                      [Documentary]\n",
       "Name: genres, Length: 613025, dtype: object"
      ]
     },
     "execution_count": 9,
     "metadata": {},
     "output_type": "execute_result"
    }
   ],
   "source": [
    "df['genres'] = df['genres'].str.split(', ')\n",
    "df['genres']"
   ]
  },
  {
   "cell_type": "code",
   "execution_count": 10,
   "metadata": {
    "colab": {
     "base_uri": "https://localhost:8080/",
     "height": 711
    },
    "id": "2WZG3nX4NGE7",
    "outputId": "92bcf7be-1eba-426a-8ac3-77e32a1acd42"
   },
   "outputs": [
    {
     "data": {
      "text/html": [
       "<div>\n",
       "<style scoped>\n",
       "    .dataframe tbody tr th:only-of-type {\n",
       "        vertical-align: middle;\n",
       "    }\n",
       "\n",
       "    .dataframe tbody tr th {\n",
       "        vertical-align: top;\n",
       "    }\n",
       "\n",
       "    .dataframe thead th {\n",
       "        text-align: right;\n",
       "    }\n",
       "</style>\n",
       "<table border=\"1\" class=\"dataframe\">\n",
       "  <thead>\n",
       "    <tr style=\"text-align: right;\">\n",
       "      <th></th>\n",
       "      <th>count</th>\n",
       "    </tr>\n",
       "    <tr>\n",
       "      <th>genres</th>\n",
       "      <th></th>\n",
       "    </tr>\n",
       "  </thead>\n",
       "  <tbody>\n",
       "    <tr>\n",
       "      <th>Drama</th>\n",
       "      <td>208570</td>\n",
       "    </tr>\n",
       "    <tr>\n",
       "      <th>Documentary</th>\n",
       "      <td>148008</td>\n",
       "    </tr>\n",
       "    <tr>\n",
       "      <th>Comedy</th>\n",
       "      <td>124341</td>\n",
       "    </tr>\n",
       "    <tr>\n",
       "      <th>Horror</th>\n",
       "      <td>55885</td>\n",
       "    </tr>\n",
       "    <tr>\n",
       "      <th>Animation</th>\n",
       "      <td>54842</td>\n",
       "    </tr>\n",
       "    <tr>\n",
       "      <th>Romance</th>\n",
       "      <td>48213</td>\n",
       "    </tr>\n",
       "    <tr>\n",
       "      <th>Thriller</th>\n",
       "      <td>46105</td>\n",
       "    </tr>\n",
       "    <tr>\n",
       "      <th>Action</th>\n",
       "      <td>42462</td>\n",
       "    </tr>\n",
       "    <tr>\n",
       "      <th>Music</th>\n",
       "      <td>42299</td>\n",
       "    </tr>\n",
       "    <tr>\n",
       "      <th>Crime</th>\n",
       "      <td>31768</td>\n",
       "    </tr>\n",
       "    <tr>\n",
       "      <th>Family</th>\n",
       "      <td>24634</td>\n",
       "    </tr>\n",
       "    <tr>\n",
       "      <th>TV Movie</th>\n",
       "      <td>23813</td>\n",
       "    </tr>\n",
       "    <tr>\n",
       "      <th>Adventure</th>\n",
       "      <td>21935</td>\n",
       "    </tr>\n",
       "    <tr>\n",
       "      <th>Science Fiction</th>\n",
       "      <td>21267</td>\n",
       "    </tr>\n",
       "    <tr>\n",
       "      <th>Fantasy</th>\n",
       "      <td>21115</td>\n",
       "    </tr>\n",
       "    <tr>\n",
       "      <th>Mystery</th>\n",
       "      <td>19294</td>\n",
       "    </tr>\n",
       "    <tr>\n",
       "      <th>History</th>\n",
       "      <td>15552</td>\n",
       "    </tr>\n",
       "    <tr>\n",
       "      <th>War</th>\n",
       "      <td>9878</td>\n",
       "    </tr>\n",
       "    <tr>\n",
       "      <th>Western</th>\n",
       "      <td>8674</td>\n",
       "    </tr>\n",
       "  </tbody>\n",
       "</table>\n",
       "</div><br><label><b>dtype:</b> int64</label>"
      ],
      "text/plain": [
       "genres\n",
       "Drama              208570\n",
       "Documentary        148008\n",
       "Comedy             124341\n",
       "Horror              55885\n",
       "Animation           54842\n",
       "Romance             48213\n",
       "Thriller            46105\n",
       "Action              42462\n",
       "Music               42299\n",
       "Crime               31768\n",
       "Family              24634\n",
       "TV Movie            23813\n",
       "Adventure           21935\n",
       "Science Fiction     21267\n",
       "Fantasy             21115\n",
       "Mystery             19294\n",
       "History             15552\n",
       "War                  9878\n",
       "Western              8674\n",
       "Name: count, dtype: int64"
      ]
     },
     "execution_count": 10,
     "metadata": {},
     "output_type": "execute_result"
    }
   ],
   "source": [
    "df['genres'].explode().value_counts()"
   ]
  },
  {
   "cell_type": "code",
   "execution_count": 11,
   "metadata": {
    "id": "3y90EvWDrskP"
   },
   "outputs": [],
   "source": [
    "df['word_count'] = df['overview'].apply(lambda x: len(x.split()))\n",
    "df['first_genre'] = df['genres'].apply(lambda x: x[0])"
   ]
  },
  {
   "cell_type": "code",
   "execution_count": 12,
   "metadata": {
    "id": "kk6OzIwaOnCR"
   },
   "outputs": [],
   "source": [
    "def remove_special_characters(text):\n",
    "    text = re.sub(r'[^a-zA-Z0-9\\s]', '', text)\n",
    "    return text\n",
    "\n",
    "df['overview'] = df['overview'].apply(remove_special_characters)"
   ]
  },
  {
   "cell_type": "code",
   "execution_count": 13,
   "metadata": {
    "colab": {
     "base_uri": "https://localhost:8080/",
     "height": 458
    },
    "id": "LSopV9t4NNAa",
    "outputId": "5113dbbb-e3c1-4c2e-dd6e-15e76ae98fc4"
   },
   "outputs": [
    {
     "data": {
      "text/html": [
       "<div>\n",
       "<style scoped>\n",
       "    .dataframe tbody tr th:only-of-type {\n",
       "        vertical-align: middle;\n",
       "    }\n",
       "\n",
       "    .dataframe tbody tr th {\n",
       "        vertical-align: top;\n",
       "    }\n",
       "\n",
       "    .dataframe thead th {\n",
       "        text-align: right;\n",
       "    }\n",
       "</style>\n",
       "<table border=\"1\" class=\"dataframe\">\n",
       "  <thead>\n",
       "    <tr style=\"text-align: right;\">\n",
       "      <th></th>\n",
       "      <th>overview</th>\n",
       "    </tr>\n",
       "  </thead>\n",
       "  <tbody>\n",
       "    <tr>\n",
       "      <th>0</th>\n",
       "      <td>after the coal mine he works at closes and his...</td>\n",
       "    </tr>\n",
       "    <tr>\n",
       "      <th>1</th>\n",
       "      <td>nikander a rubbish collector and wouldbe entre...</td>\n",
       "    </tr>\n",
       "    <tr>\n",
       "      <th>2</th>\n",
       "      <td>its ted the bellhops first night on the joband...</td>\n",
       "    </tr>\n",
       "    <tr>\n",
       "      <th>3</th>\n",
       "      <td>four young friends while taking a shortcut en ...</td>\n",
       "    </tr>\n",
       "    <tr>\n",
       "      <th>4</th>\n",
       "      <td>timo novotny labels his new project an experim...</td>\n",
       "    </tr>\n",
       "    <tr>\n",
       "      <th>...</th>\n",
       "      <td>...</td>\n",
       "    </tr>\n",
       "    <tr>\n",
       "      <th>613020</th>\n",
       "      <td>a social drama on the issue of accusing women ...</td>\n",
       "    </tr>\n",
       "    <tr>\n",
       "      <th>613021</th>\n",
       "      <td>a story about a girl fed up with her roommate ...</td>\n",
       "    </tr>\n",
       "    <tr>\n",
       "      <th>613022</th>\n",
       "      <td>an untold perspective that captures the feelin...</td>\n",
       "    </tr>\n",
       "    <tr>\n",
       "      <th>613023</th>\n",
       "      <td>becketts krapps last tape produced by hungaria...</td>\n",
       "    </tr>\n",
       "    <tr>\n",
       "      <th>613024</th>\n",
       "      <td>the salmons call is a powerful documentary tha...</td>\n",
       "    </tr>\n",
       "  </tbody>\n",
       "</table>\n",
       "<p>613025 rows × 1 columns</p>\n",
       "</div><br><label><b>dtype:</b> object</label>"
      ],
      "text/plain": [
       "0         after the coal mine he works at closes and his...\n",
       "1         nikander a rubbish collector and wouldbe entre...\n",
       "2         its ted the bellhops first night on the joband...\n",
       "3         four young friends while taking a shortcut en ...\n",
       "4         timo novotny labels his new project an experim...\n",
       "                                ...                        \n",
       "613020    a social drama on the issue of accusing women ...\n",
       "613021    a story about a girl fed up with her roommate ...\n",
       "613022    an untold perspective that captures the feelin...\n",
       "613023    becketts krapps last tape produced by hungaria...\n",
       "613024    the salmons call is a powerful documentary tha...\n",
       "Name: overview, Length: 613025, dtype: object"
      ]
     },
     "execution_count": 13,
     "metadata": {},
     "output_type": "execute_result"
    }
   ],
   "source": [
    "def convert_to_lowercase(text):\n",
    "    return text.lower()\n",
    "\n",
    "df['overview'] = df['overview'].apply(convert_to_lowercase)\n",
    "df['overview']"
   ]
  },
  {
   "cell_type": "code",
   "execution_count": 14,
   "metadata": {
    "colab": {
     "base_uri": "https://localhost:8080/"
    },
    "id": "c-J6e4qYNNHb",
    "outputId": "947af0f6-766f-45fb-c1d8-43ca771e634a"
   },
   "outputs": [
    {
     "name": "stderr",
     "output_type": "stream",
     "text": [
      "[nltk_data] Downloading package stopwords to /root/nltk_data...\n",
      "[nltk_data]   Package stopwords is already up-to-date!\n",
      "[nltk_data] Downloading package punkt to /root/nltk_data...\n",
      "[nltk_data]   Package punkt is already up-to-date!\n",
      "[nltk_data] Downloading package punkt_tab to /root/nltk_data...\n",
      "[nltk_data]   Package punkt_tab is already up-to-date!\n"
     ]
    }
   ],
   "source": [
    "nltk.download('stopwords')\n",
    "nltk.download('punkt')\n",
    "nltk.download('punkt_tab')\n",
    "\n",
    "from nltk.corpus import stopwords\n",
    "from nltk.tokenize import word_tokenize"
   ]
  },
  {
   "cell_type": "code",
   "execution_count": 35,
   "metadata": {
    "id": "JGKJ1IPTUPND"
   },
   "outputs": [],
   "source": [
    "def print_progress():\n",
    "    global index\n",
    "    index += 1\n",
    "    if index % 2000 == 0:\n",
    "        print(index, end=' ')\n",
    "    if index % 30_000 == 0:\n",
    "        print()"
   ]
  },
  {
   "cell_type": "code",
   "execution_count": 16,
   "metadata": {
    "id": "t-_ehkiQY0PC"
   },
   "outputs": [],
   "source": [
    "stop_words = set(stopwords.words('english'))"
   ]
  },
  {
   "cell_type": "code",
   "execution_count": 17,
   "metadata": {
    "colab": {
     "base_uri": "https://localhost:8080/",
     "height": 1000
    },
    "id": "KBI3TOlfYrPY",
    "outputId": "53b9563d-86a5-4018-b474-b9302fa29372"
   },
   "outputs": [
    {
     "name": "stdout",
     "output_type": "stream",
     "text": [
      "500 1000 1500 2000 2500 3000 3500 4000 4500 5000 5500 6000 6500 7000 7500 8000 8500 9000 9500 10000 \n",
      "10500 11000 11500 12000 12500 13000 13500 14000 14500 15000 15500 16000 16500 17000 17500 18000 18500 19000 19500 20000 \n",
      "20500 21000 21500 22000 22500 23000 23500 24000 24500 25000 25500 26000 26500 27000 27500 28000 28500 29000 29500 30000 \n",
      "30500 31000 31500 32000 32500 33000 33500 34000 34500 35000 35500 36000 36500 37000 37500 38000 38500 39000 39500 40000 \n",
      "40500 41000 41500 42000 42500 43000 43500 44000 44500 45000 45500 46000 46500 47000 47500 48000 48500 49000 49500 50000 \n",
      "50500 51000 51500 52000 52500 53000 53500 54000 54500 55000 55500 56000 56500 57000 57500 58000 58500 59000 59500 60000 \n",
      "60500 61000 61500 62000 62500 63000 63500 64000 64500 65000 65500 66000 66500 67000 67500 68000 68500 69000 69500 70000 \n",
      "70500 71000 71500 72000 72500 73000 73500 74000 74500 75000 75500 76000 76500 77000 77500 78000 78500 79000 79500 80000 \n",
      "80500 81000 81500 82000 82500 83000 83500 84000 84500 85000 85500 86000 86500 87000 87500 88000 88500 89000 89500 90000 \n",
      "90500 91000 91500 92000 92500 93000 93500 94000 94500 95000 95500 96000 96500 97000 97500 98000 98500 99000 99500 100000 \n",
      "100500 101000 101500 102000 102500 103000 103500 104000 104500 105000 105500 106000 106500 107000 107500 108000 108500 109000 109500 110000 \n",
      "110500 111000 111500 112000 112500 113000 113500 114000 114500 115000 115500 116000 116500 117000 117500 118000 118500 119000 119500 120000 \n",
      "120500 121000 121500 122000 122500 123000 123500 124000 124500 125000 125500 126000 126500 127000 127500 128000 128500 129000 129500 130000 \n",
      "130500 131000 131500 132000 132500 133000 133500 134000 134500 135000 135500 136000 136500 137000 137500 138000 138500 139000 139500 140000 \n",
      "140500 141000 141500 142000 142500 143000 143500 144000 144500 145000 145500 146000 146500 147000 147500 148000 148500 149000 149500 150000 \n",
      "150500 151000 151500 152000 152500 153000 153500 154000 154500 155000 155500 156000 156500 157000 157500 158000 158500 159000 159500 160000 \n",
      "160500 161000 161500 162000 162500 163000 163500 164000 164500 165000 165500 166000 166500 167000 167500 168000 168500 169000 169500 170000 \n",
      "170500 171000 171500 172000 172500 173000 173500 174000 174500 175000 175500 176000 176500 177000 177500 178000 178500 179000 179500 180000 \n",
      "180500 181000 181500 182000 182500 183000 183500 184000 184500 185000 185500 186000 186500 187000 187500 188000 188500 189000 189500 190000 \n",
      "190500 191000 191500 192000 192500 193000 193500 194000 194500 195000 195500 196000 196500 197000 197500 198000 198500 199000 199500 200000 \n",
      "200500 201000 201500 202000 202500 203000 203500 204000 204500 205000 205500 206000 206500 207000 207500 208000 208500 209000 209500 210000 \n",
      "210500 211000 211500 212000 212500 213000 213500 214000 214500 215000 215500 216000 216500 217000 217500 218000 218500 219000 219500 220000 \n",
      "220500 221000 221500 222000 222500 223000 223500 224000 224500 225000 225500 226000 226500 227000 227500 228000 228500 229000 229500 230000 \n",
      "230500 231000 231500 232000 232500 233000 233500 234000 234500 235000 235500 236000 236500 237000 237500 238000 238500 239000 239500 240000 \n",
      "240500 241000 241500 242000 242500 243000 243500 244000 244500 245000 245500 246000 246500 247000 247500 248000 248500 249000 249500 250000 \n",
      "250500 251000 251500 252000 252500 253000 253500 254000 254500 255000 255500 256000 256500 257000 257500 258000 258500 259000 259500 260000 \n",
      "260500 261000 261500 262000 262500 263000 263500 264000 264500 265000 265500 266000 266500 267000 267500 268000 268500 269000 269500 270000 \n",
      "270500 271000 271500 272000 272500 273000 273500 274000 274500 275000 275500 276000 276500 277000 277500 278000 278500 279000 279500 280000 \n",
      "280500 281000 281500 282000 282500 283000 283500 284000 284500 285000 285500 286000 286500 287000 287500 288000 288500 289000 289500 290000 \n",
      "290500 291000 291500 292000 292500 293000 293500 294000 294500 295000 295500 296000 296500 297000 297500 298000 298500 299000 299500 300000 \n",
      "300500 301000 301500 302000 302500 303000 303500 304000 304500 305000 305500 306000 306500 307000 307500 308000 308500 309000 309500 310000 \n",
      "310500 311000 311500 312000 312500 313000 313500 314000 314500 315000 315500 316000 316500 317000 317500 318000 318500 319000 319500 320000 \n",
      "320500 321000 321500 322000 322500 323000 323500 324000 324500 325000 325500 326000 326500 327000 327500 328000 328500 329000 329500 330000 \n",
      "330500 331000 331500 332000 332500 333000 333500 334000 334500 335000 335500 336000 336500 337000 337500 338000 338500 339000 339500 340000 \n",
      "340500 341000 341500 342000 342500 343000 343500 344000 344500 345000 345500 346000 346500 347000 347500 348000 348500 349000 349500 350000 \n",
      "350500 351000 351500 352000 352500 353000 353500 354000 354500 355000 355500 356000 356500 357000 357500 358000 358500 359000 359500 360000 \n",
      "360500 361000 361500 362000 362500 363000 363500 364000 364500 365000 365500 366000 366500 367000 367500 368000 368500 369000 369500 370000 \n",
      "370500 371000 371500 372000 372500 373000 373500 374000 374500 375000 375500 376000 376500 377000 377500 378000 378500 379000 379500 380000 \n",
      "380500 381000 381500 382000 382500 383000 383500 384000 384500 385000 385500 386000 386500 387000 387500 388000 388500 389000 389500 390000 \n",
      "390500 391000 391500 392000 392500 393000 393500 394000 394500 395000 395500 396000 396500 397000 397500 398000 398500 399000 399500 400000 \n",
      "400500 401000 401500 402000 402500 403000 403500 404000 404500 405000 405500 406000 406500 407000 407500 408000 408500 409000 409500 410000 \n",
      "410500 411000 411500 412000 412500 413000 413500 414000 414500 415000 415500 416000 416500 417000 417500 418000 418500 419000 419500 420000 \n",
      "420500 421000 421500 422000 422500 423000 423500 424000 424500 425000 425500 426000 426500 427000 427500 428000 428500 429000 429500 430000 \n",
      "430500 431000 431500 432000 432500 433000 433500 434000 434500 435000 435500 436000 436500 437000 437500 438000 438500 439000 439500 440000 \n",
      "440500 441000 441500 442000 442500 443000 443500 444000 444500 445000 445500 446000 446500 447000 447500 448000 448500 449000 449500 450000 \n",
      "450500 451000 451500 452000 452500 453000 453500 454000 454500 455000 455500 456000 456500 457000 457500 458000 458500 459000 459500 460000 \n",
      "460500 461000 461500 462000 462500 463000 463500 464000 464500 465000 465500 466000 466500 467000 467500 468000 468500 469000 469500 470000 \n",
      "470500 471000 471500 472000 472500 473000 473500 474000 474500 475000 475500 476000 476500 477000 477500 478000 478500 479000 479500 480000 \n",
      "480500 481000 481500 482000 482500 483000 483500 484000 484500 485000 485500 486000 486500 487000 487500 488000 488500 489000 489500 490000 \n",
      "490500 491000 491500 492000 492500 493000 493500 494000 494500 495000 495500 496000 496500 497000 497500 498000 498500 499000 499500 500000 \n",
      "500500 501000 501500 502000 502500 503000 503500 504000 504500 505000 505500 506000 506500 507000 507500 508000 508500 509000 509500 510000 \n",
      "510500 511000 511500 512000 512500 513000 513500 514000 514500 515000 515500 516000 516500 517000 517500 518000 518500 519000 519500 520000 \n",
      "520500 521000 521500 522000 522500 523000 523500 524000 524500 525000 525500 526000 526500 527000 527500 528000 528500 529000 529500 530000 \n",
      "530500 531000 531500 532000 532500 533000 533500 534000 534500 535000 535500 536000 536500 537000 537500 538000 538500 539000 539500 540000 \n",
      "540500 541000 541500 542000 542500 543000 543500 544000 544500 545000 545500 546000 546500 547000 547500 548000 548500 549000 549500 550000 \n",
      "550500 551000 551500 552000 552500 553000 553500 554000 554500 555000 555500 556000 556500 557000 557500 558000 558500 559000 559500 560000 \n",
      "560500 561000 561500 562000 562500 563000 563500 564000 564500 565000 565500 566000 566500 567000 567500 568000 568500 569000 569500 570000 \n",
      "570500 571000 571500 572000 572500 573000 573500 574000 574500 575000 575500 576000 576500 577000 577500 578000 578500 579000 579500 580000 \n",
      "580500 581000 581500 582000 582500 583000 583500 584000 584500 585000 585500 586000 586500 587000 587500 588000 588500 589000 589500 590000 \n",
      "590500 591000 591500 592000 592500 593000 593500 594000 594500 595000 595500 596000 596500 597000 597500 598000 598500 599000 599500 600000 \n",
      "600500 601000 601500 602000 602500 603000 603500 604000 604500 605000 605500 606000 606500 607000 607500 608000 608500 609000 609500 610000 \n",
      "610500 611000 611500 612000 612500 613000 "
     ]
    },
    {
     "data": {
      "text/html": [
       "<div>\n",
       "<style scoped>\n",
       "    .dataframe tbody tr th:only-of-type {\n",
       "        vertical-align: middle;\n",
       "    }\n",
       "\n",
       "    .dataframe tbody tr th {\n",
       "        vertical-align: top;\n",
       "    }\n",
       "\n",
       "    .dataframe thead th {\n",
       "        text-align: right;\n",
       "    }\n",
       "</style>\n",
       "<table border=\"1\" class=\"dataframe\">\n",
       "  <thead>\n",
       "    <tr style=\"text-align: right;\">\n",
       "      <th></th>\n",
       "      <th>overview</th>\n",
       "    </tr>\n",
       "  </thead>\n",
       "  <tbody>\n",
       "    <tr>\n",
       "      <th>0</th>\n",
       "      <td>coal mine works closes father commits suicide ...</td>\n",
       "    </tr>\n",
       "    <tr>\n",
       "      <th>1</th>\n",
       "      <td>nikander rubbish collector wouldbe entrepreneu...</td>\n",
       "    </tr>\n",
       "    <tr>\n",
       "      <th>2</th>\n",
       "      <td>ted bellhops first night joband hotels unusual...</td>\n",
       "    </tr>\n",
       "    <tr>\n",
       "      <th>3</th>\n",
       "      <td>four young friends taking shortcut en route lo...</td>\n",
       "    </tr>\n",
       "    <tr>\n",
       "      <th>4</th>\n",
       "      <td>timo novotny labels new project experimental m...</td>\n",
       "    </tr>\n",
       "    <tr>\n",
       "      <th>...</th>\n",
       "      <td>...</td>\n",
       "    </tr>\n",
       "    <tr>\n",
       "      <th>613020</th>\n",
       "      <td>social drama issue accusing women practicing w...</td>\n",
       "    </tr>\n",
       "    <tr>\n",
       "      <th>613021</th>\n",
       "      <td>story girl fed roommate plans teach lesson lea...</td>\n",
       "    </tr>\n",
       "    <tr>\n",
       "      <th>613022</th>\n",
       "      <td>untold perspective captures feelings sorrow jo...</td>\n",
       "    </tr>\n",
       "    <tr>\n",
       "      <th>613023</th>\n",
       "      <td>becketts krapps last tape produced hungarian t...</td>\n",
       "    </tr>\n",
       "    <tr>\n",
       "      <th>613024</th>\n",
       "      <td>salmons call powerful documentary explores int...</td>\n",
       "    </tr>\n",
       "  </tbody>\n",
       "</table>\n",
       "<p>613025 rows × 1 columns</p>\n",
       "</div><br><label><b>dtype:</b> object</label>"
      ],
      "text/plain": [
       "0         coal mine works closes father commits suicide ...\n",
       "1         nikander rubbish collector wouldbe entrepreneu...\n",
       "2         ted bellhops first night joband hotels unusual...\n",
       "3         four young friends taking shortcut en route lo...\n",
       "4         timo novotny labels new project experimental m...\n",
       "                                ...                        \n",
       "613020    social drama issue accusing women practicing w...\n",
       "613021    story girl fed roommate plans teach lesson lea...\n",
       "613022    untold perspective captures feelings sorrow jo...\n",
       "613023    becketts krapps last tape produced hungarian t...\n",
       "613024    salmons call powerful documentary explores int...\n",
       "Name: overview, Length: 613025, dtype: object"
      ]
     },
     "execution_count": 17,
     "metadata": {},
     "output_type": "execute_result"
    }
   ],
   "source": [
    "index = 0\n",
    "def remove_stopwords(text):\n",
    "    print_progress()\n",
    "    tokens = word_tokenize(text)\n",
    "    # filtered_tokens = []\n",
    "    return ' '.join(word for word in tokens if word.lower() not in stop_words)\n",
    "\n",
    "df['overview'] = df['overview'].apply(remove_stopwords)\n",
    "df['overview']"
   ]
  },
  {
   "cell_type": "code",
   "execution_count": 20,
   "metadata": {
    "colab": {
     "base_uri": "https://localhost:8080/"
    },
    "id": "5lAOC7dxNNT6",
    "outputId": "f17d84af-e372-4c4e-a6ac-4a1886bd568c"
   },
   "outputs": [
    {
     "name": "stdout",
     "output_type": "stream",
     "text": [
      "16122969\n",
      "word_counts:\n",
      "\n",
      "431827\n",
      "[('film', 98083), ('life', 87761), ('one', 83107), ('young', 67943), ('man', 57879), ('love', 56454), ('two', 56406), ('new', 56333), ('story', 55574), ('world', 53124)]\n"
     ]
    }
   ],
   "source": [
    "# all words\n",
    "from collections import Counter\n",
    "all_words = ' '.join(df['overview']).split()\n",
    "print(len(all_words))\n",
    "word_counts = Counter(all_words)\n",
    "print('word_counts:\\n')\n",
    "print(len(word_counts))\n",
    "print(word_counts.most_common(10), sep='')"
   ]
  },
  {
   "cell_type": "code",
   "execution_count": 23,
   "metadata": {
    "id": "iuX3Jdcz65P2"
   },
   "outputs": [],
   "source": [
    "del all_words"
   ]
  },
  {
   "cell_type": "code",
   "execution_count": 44,
   "metadata": {
    "colab": {
     "base_uri": "https://localhost:8080/"
    },
    "id": "ksApmR7EahZm",
    "outputId": "04a29a8f-f798-4134-a0d2-5136e4844421"
   },
   "outputs": [
    {
     "data": {
      "text/plain": [
       "409161"
      ]
     },
     "execution_count": 44,
     "metadata": {},
     "output_type": "execute_result"
    }
   ],
   "source": [
    "# rare words\n",
    "threshold = 50  # Adjust this value based on your dataset and requirements\n",
    "rare_words = set(word for word, count in word_counts.items() if count <= threshold)\n",
    "len(rare_words)"
   ]
  },
  {
   "cell_type": "code",
   "execution_count": 45,
   "metadata": {
    "id": "dE5RixVkNNWh"
   },
   "outputs": [],
   "source": [
    "index = 0\n",
    "def handle_rare_words(text, replacement='<UNK>'):\n",
    "    print_progress()\n",
    "    global rare_words\n",
    "    tokens = text.split()\n",
    "    # filtered_tokens = [token if token not in rare_words else replacement for token in tokens]\n",
    "    return ' '.join(token for token in tokens if token not in rare_words)"
   ]
  },
  {
   "cell_type": "code",
   "execution_count": 46,
   "metadata": {
    "colab": {
     "base_uri": "https://localhost:8080/"
    },
    "id": "HwCukLv-e8pU",
    "outputId": "37d63e10-4632-47d7-a1d1-52691729437b"
   },
   "outputs": [
    {
     "name": "stdout",
     "output_type": "stream",
     "text": [
      "2000 4000 6000 8000 10000 12000 14000 16000 18000 20000 22000 24000 26000 28000 30000 \n",
      "32000 34000 36000 38000 40000 42000 44000 46000 48000 50000 52000 54000 56000 58000 60000 \n",
      "62000 64000 66000 68000 70000 72000 74000 76000 78000 80000 82000 84000 86000 88000 90000 \n",
      "92000 94000 96000 98000 100000 102000 104000 106000 108000 110000 112000 114000 116000 118000 120000 \n",
      "122000 124000 126000 128000 130000 132000 134000 136000 138000 140000 142000 144000 146000 148000 150000 \n",
      "152000 154000 156000 158000 160000 162000 164000 166000 168000 170000 172000 174000 176000 178000 180000 \n",
      "182000 184000 186000 188000 190000 192000 194000 196000 198000 200000 202000 204000 206000 208000 210000 \n",
      "212000 214000 216000 218000 220000 222000 224000 226000 228000 230000 232000 234000 236000 238000 240000 \n",
      "242000 244000 246000 248000 250000 252000 254000 256000 258000 260000 262000 264000 266000 268000 270000 \n",
      "272000 274000 276000 278000 280000 282000 284000 286000 288000 290000 292000 294000 296000 298000 300000 \n",
      "302000 304000 306000 308000 310000 312000 314000 316000 318000 320000 322000 324000 326000 328000 330000 \n",
      "332000 334000 336000 338000 340000 342000 344000 346000 348000 350000 352000 354000 356000 358000 360000 \n",
      "362000 364000 366000 368000 370000 372000 374000 376000 378000 380000 382000 384000 386000 388000 390000 \n",
      "392000 394000 396000 398000 400000 402000 404000 406000 408000 410000 412000 414000 416000 418000 420000 \n",
      "422000 424000 426000 428000 430000 432000 434000 436000 438000 440000 442000 444000 446000 448000 450000 \n",
      "452000 454000 456000 458000 460000 462000 464000 466000 468000 470000 472000 474000 476000 478000 480000 \n",
      "482000 484000 486000 488000 490000 492000 494000 496000 498000 500000 502000 504000 506000 508000 510000 \n",
      "512000 514000 516000 518000 520000 522000 524000 526000 528000 530000 532000 534000 536000 538000 540000 \n",
      "542000 544000 546000 548000 550000 552000 554000 556000 558000 560000 562000 564000 566000 568000 570000 \n",
      "572000 574000 576000 578000 580000 582000 584000 586000 588000 590000 592000 594000 596000 598000 600000 \n",
      "602000 604000 606000 608000 610000 612000 "
     ]
    }
   ],
   "source": [
    "# takes 1 minutes\n",
    "df['overview'] = df['overview'].apply(handle_rare_words)"
   ]
  },
  {
   "cell_type": "code",
   "execution_count": 47,
   "metadata": {
    "colab": {
     "base_uri": "https://localhost:8080/",
     "height": 35
    },
    "id": "a7ehT1qJU_UF",
    "outputId": "dce03b50-319c-4f2a-9b5a-f2be85eea2df"
   },
   "outputs": [
    {
     "data": {
      "application/vnd.google.colaboratory.intrinsic+json": {
       "type": "string"
      },
      "text/plain": [
       "'coal mine works closes father commits suicide finnish man leaves city make living framed imprisoned various crimes'"
      ]
     },
     "execution_count": 47,
     "metadata": {},
     "output_type": "execute_result"
    }
   ],
   "source": [
    "df['overview'][0]"
   ]
  },
  {
   "cell_type": "code",
   "execution_count": 26,
   "metadata": {
    "colab": {
     "base_uri": "https://localhost:8080/",
     "height": 653
    },
    "id": "gqq_7sHoNNY8",
    "outputId": "b3cddde4-1ae1-4361-b3dd-5e3678d8c52c"
   },
   "outputs": [
    {
     "data": {
      "image/png": "[encoded data removed]",
      "text/plain": [
       "<Figure size 1000x600 with 1 Axes>"
      ]
     },
     "metadata": {},
     "output_type": "display_data"
    }
   ],
   "source": [
    "# visualization\n",
    "import matplotlib.pyplot as plt\n",
    "\n",
    "plt.figure(figsize=(10, 6))\n",
    "df['genres'].explode().value_counts().plot(kind='bar')\n",
    "plt.title('Genre Distribution')\n",
    "plt.xlabel('Genre')\n",
    "plt.ylabel('Count')\n",
    "plt.show()"
   ]
  },
  {
   "cell_type": "code",
   "execution_count": 27,
   "metadata": {
    "colab": {
     "base_uri": "https://localhost:8080/",
     "height": 564
    },
    "id": "Ezcx3oUIb-lY",
    "outputId": "e708bec1-7033-425c-95ec-c06ec223e665"
   },
   "outputs": [
    {
     "data": {
      "image/png": "[encoded data removed]",
      "text/plain": [
       "<Figure size 1000x600 with 1 Axes>"
      ]
     },
     "metadata": {},
     "output_type": "display_data"
    }
   ],
   "source": [
    "plt.figure(figsize=(10, 6))\n",
    "df['overview'].apply(lambda x: len(x.split())).plot(kind='hist', bins=30)\n",
    "plt.title('Distribution of Plot Lengths')\n",
    "plt.xlabel('Number of Words')\n",
    "plt.ylabel('Frequency')\n",
    "plt.show()"
   ]
  },
  {
   "cell_type": "code",
   "execution_count": null,
   "metadata": {
    "id": "ktD9mhPxNNbd"
   },
   "outputs": [],
   "source": [
    "from wordcloud import WordCloud\n",
    "\n",
    "wordcloud = WordCloud(width=800, height=400, background_color='white').generate(' '.join(df['overview']))\n",
    "plt.figure(figsize=(12, 6))\n",
    "plt.imshow(wordcloud, interpolation='bilinear')\n",
    "plt.title('Word Cloud of Plot Descriptions')\n",
    "plt.axis('off')\n",
    "plt.show()"
   ]
  },
  {
   "cell_type": "code",
   "execution_count": 28,
   "metadata": {
    "colab": {
     "base_uri": "https://localhost:8080/",
     "height": 633
    },
    "id": "Wcj-1otTNNeF",
    "outputId": "7cb63c10-c301-4e39-f32e-10154b378ba0"
   },
   "outputs": [
    {
     "data": {
      "image/png": "[encoded data removed]",
      "text/plain": [
       "<Figure size 1200x600 with 1 Axes>"
      ]
     },
     "metadata": {},
     "output_type": "display_data"
    }
   ],
   "source": [
    "import seaborn as sns\n",
    "plt.figure(figsize=(12, 6))\n",
    "sns.boxplot(x='first_genre', y='word_count', data=df)\n",
    "plt.title('Distribution of Plot Lengths by Genre')\n",
    "plt.xlabel('Genre')\n",
    "plt.ylabel('Number of Words')\n",
    "plt.xticks(rotation=45)\n",
    "plt.show()"
   ]
  },
  {
   "cell_type": "code",
   "execution_count": 29,
   "metadata": {
    "colab": {
     "base_uri": "https://localhost:8080/",
     "height": 807
    },
    "id": "CBQdBaY4c8Tt",
    "outputId": "3e84ac27-e76c-496d-cd94-1ef67102cb95"
   },
   "outputs": [
    {
     "data": {
      "image/png": "[encoded data removed]",
      "text/plain": [
       "<Figure size 1000x800 with 2 Axes>"
      ]
     },
     "metadata": {},
     "output_type": "display_data"
    }
   ],
   "source": [
    "binary_matrix = pd.get_dummies(df['first_genre'])\n",
    "correlation_matrix = binary_matrix.corr()\n",
    "plt.figure(figsize=(10, 8))\n",
    "sns.heatmap(correlation_matrix, annot=True, cmap='coolwarm', fmt=\".2f\", square=True)\n",
    "plt.title('Genre Correlation Heatmap')\n",
    "plt.xlabel('Genre')\n",
    "plt.ylabel('Genre')\n",
    "plt.show()"
   ]
  },
  {
   "cell_type": "markdown",
   "metadata": {
    "id": "VlPu3w_AdgBF"
   },
   "source": [
    "# **MODEL FITTING**"
   ]
  },
  {
   "cell_type": "code",
   "execution_count": 30,
   "metadata": {
    "id": "sEFNpTg1iEI8"
   },
   "outputs": [],
   "source": [
    "import random\n",
    "import re\n",
    "from collections import defaultdict"
   ]
  },
  {
   "cell_type": "code",
   "execution_count": 31,
   "metadata": {
    "id": "7YQxNuE5iHfY"
   },
   "outputs": [],
   "source": [
    "# Function to preprocess text: tokenize and remove special characters (excluding spaces)\n",
    "def preprocess_text(text):\n",
    "    # Tokenize text\n",
    "    words = text.split()\n",
    "    # Remove special characters (excluding spaces)\n",
    "    words = [re.sub(r'[^a-zA-Z0-9\\s]', '', word) for word in words if 'UNK' not in word]\n",
    "    # Remove empty strings\n",
    "    words = [word for word in words if word.strip()]\n",
    "    return words"
   ]
  },
  {
   "cell_type": "code",
   "execution_count": 54,
   "metadata": {
    "colab": {
     "base_uri": "https://localhost:8080/"
    },
    "id": "GtJmhYfYw5C7",
    "outputId": "d1b29e93-a4cf-4a88-f927-4977ea80d704"
   },
   "outputs": [
    {
     "name": "stderr",
     "output_type": "stream",
     "text": [
      "100%|██████████| 2/2 [00:00<00:00, 660.26it/s]\n"
     ]
    },
    {
     "data": {
      "text/plain": [
       "{'coal': ['mine'], 'mine': ['works', 'marlin']}"
      ]
     },
     "execution_count": 54,
     "metadata": {},
     "output_type": "execute_result"
    }
   ],
   "source": [
    "def calculate_probabilities(data):\n",
    "    results = {}\n",
    "\n",
    "    for key, values in tqdm(data.items()):\n",
    "        total_count = len(values)\n",
    "        frequency_dict = {}\n",
    "\n",
    "        # Подсчитываем количество вхождений каждого элемента\n",
    "        for value in values:\n",
    "            if value in frequency_dict:\n",
    "                frequency_dict[value] += 1\n",
    "            else:\n",
    "                frequency_dict[value] = 1\n",
    "\n",
    "        # Создаем пустую структуру вероятностей для текущего ключа\n",
    "        probabilities = [[], []]\n",
    "\n",
    "        # Рассчитываем вероятность и заполняем результат\n",
    "        for value, count in frequency_dict.items():\n",
    "            probability = count / total_count\n",
    "\n",
    "            if probability > 0.69:\n",
    "                probabilities[0].append(value)\n",
    "            else:\n",
    "                probabilities[1].append(value)\n",
    "\n",
    "        results[key] = list()\n",
    "        for item in probabilities:\n",
    "            if item:\n",
    "                results[key].extend(item)\n",
    "            if item and len(item) > 3:\n",
    "                break\n",
    "    return results\n",
    "\n",
    "# Пример использования\n",
    "data = {\n",
    "    'coal': ['mine'],\n",
    "    'mine': ['works', 'works', 'marlin', 'marlin', 'marlin']\n",
    "}\n",
    "\n",
    "result = calculate_probabilities(data)\n",
    "result"
   ]
  },
  {
   "cell_type": "code",
   "execution_count": 33,
   "metadata": {
    "id": "Um1P7m6ftGRj"
   },
   "outputs": [],
   "source": [
    "# Function to train Markov model\n",
    "def train_markov_model(data):\n",
    "    markov_model = defaultdict(list)\n",
    "    for text in tqdm(data):\n",
    "        words = preprocess_text(text)\n",
    "        for i in range(len(words) - 1):\n",
    "            current_word, next_word = words[i], words[i + 1]\n",
    "            markov_model[current_word].append(next_word)\n",
    "    markov_model = dict(markov_model)\n",
    "    markov_model = calculate_probabilities(markov_model)\n",
    "    return markov_model"
   ]
  },
  {
   "cell_type": "code",
   "execution_count": 34,
   "metadata": {
    "colab": {
     "base_uri": "https://localhost:8080/"
    },
    "id": "WbqGJpWPiKIl",
    "outputId": "cfba18f8-5622-40ba-f292-b0b2f5f0a8c7"
   },
   "outputs": [
    {
     "name": "stderr",
     "output_type": "stream",
     "text": [
      "100%|██████████| 613025/613025 [00:41<00:00, 14715.79it/s]\n",
      "100%|██████████| 54664/54664 [00:11<00:00, 4890.54it/s] \n"
     ]
    },
    {
     "data": {
      "text/plain": [
       "54664"
      ]
     },
     "execution_count": 34,
     "metadata": {},
     "output_type": "execute_result"
    }
   ],
   "source": [
    "# Train Markov model on the entire dataset\n",
    "markov_model_whole = train_markov_model(df['overview'])\n",
    "len(markov_model_whole)"
   ]
  },
  {
   "cell_type": "code",
   "execution_count": null,
   "metadata": {
    "id": "hBmhkU3Yh3WF"
   },
   "outputs": [],
   "source": [
    "# Function to generate plot based on Markov model\n",
    "def generate_plot(markov_model, length=50):\n",
    "    current_word = random.choice(list(markov_model.keys()))\n",
    "    next_words = markov_model[current_word][:]\n",
    "    next_words.reverse()\n",
    "    plot = []\n",
    "    for _ in range(length):\n",
    "        if current_word in markov_model:\n",
    "            next_words = markov_model[current_word][:]\n",
    "            next_words.reverse()\n",
    "            current_word = random.choice(markov_model[current_word])\n",
    "            plot.append(current_word)\n",
    "        else:\n",
    "            if not next_words:\n",
    "                break\n",
    "            current_word = next_words.pop()\n",
    "    return ' '.join(plot)\n",
    "\n",
    "# Function to generate plot for a given genre\n",
    "def generate_genre_plot(df, genre, markov_model):\n",
    "    genre_subset = df[df['first_genre'] == genre]\n",
    "    markov_model_genre = train_markov_model(genre_subset['overview'])\n",
    "    return generate_plot(markov_model_genre)"
   ]
  },
  {
   "cell_type": "code",
   "execution_count": 55,
   "metadata": {
    "colab": {
     "base_uri": "https://localhost:8080/",
     "height": 104
    },
    "id": "qoYHJpsuiiiD",
    "outputId": "6991b542-f5ef-464f-fcf2-51d00a6b19e1"
   },
   "outputs": [
    {
     "name": "stderr",
     "output_type": "stream",
     "text": [
      "100%|██████████| 84590/84590 [00:04<00:00, 17626.46it/s]\n",
      "100%|██████████| 22406/22406 [00:01<00:00, 17300.22it/s]\n"
     ]
    },
    {
     "data": {
      "application/vnd.google.colaboratory.intrinsic+json": {
       "type": "string"
      },
      "text/plain": [
       "'film india married despite bubbly experiences messing causing fire chiefs traitors movie invent criminal want ass pathological meet carnival flor left sisters leading unexpected snowstorm harry doyle jessica saunders fans truck guy charge much hilarity young belgian bike take indochina reality hooker ze de flix manager somewhat immature husband prison'"
      ]
     },
     "execution_count": 55,
     "metadata": {},
     "output_type": "execute_result"
    }
   ],
   "source": [
    "# Example: Generate a plot for the 'Comedy' genre\n",
    "generate_genre_plot(df, 'Comedy', markov_model_whole)"
   ]
  },
  {
   "cell_type": "code",
   "execution_count": 56,
   "metadata": {
    "colab": {
     "base_uri": "https://localhost:8080/",
     "height": 104
    },
    "id": "3EykXzmDZVjX",
    "outputId": "48c3acd4-8979-483e-86cb-b02e89660798"
   },
   "outputs": [
    {
     "name": "stderr",
     "output_type": "stream",
     "text": [
      "100%|██████████| 27952/27952 [00:01<00:00, 21866.43it/s]\n",
      "100%|██████████| 20327/20327 [00:00<00:00, 43665.05it/s]\n"
     ]
    },
    {
     "data": {
      "application/vnd.google.colaboratory.intrinsic+json": {
       "type": "string"
      },
      "text/plain": [
       "'told requires seek revenge honor girlfriend blood allow track confront checkered past forever three form johnny wang xia ba wifes undercover investigation hank hank danger five rich quick money livelihood due violent gangster gangsters tied recent times get married ramesh tries trace journey proposed stone said first became yang recruited'"
      ]
     },
     "execution_count": 56,
     "metadata": {},
     "output_type": "execute_result"
    }
   ],
   "source": [
    "genre = 'Action'\n",
    "generate_genre_plot(df, genre, markov_model_whole)"
   ]
  },
  {
   "cell_type": "code",
   "execution_count": 57,
   "metadata": {
    "colab": {
     "base_uri": "https://localhost:8080/",
     "height": 87
    },
    "id": "WwJeIarH5sws",
    "outputId": "6a655a7a-fded-47bd-e7ed-b7b552b1e9c5"
   },
   "outputs": [
    {
     "name": "stderr",
     "output_type": "stream",
     "text": [
      "100%|██████████| 3217/3217 [00:01<00:00, 2182.15it/s]\n",
      "100%|██████████| 10611/10611 [00:00<00:00, 114801.73it/s]\n"
     ]
    },
    {
     "data": {
      "application/vnd.google.colaboratory.intrinsic+json": {
       "type": "string"
      },
      "text/plain": [
       "'berlin yet old army attic house end soccer career military epic event facility bay beautiful wife dies young woman secretary captured revealing documentary style angel leading final routine deserters existence main use skills combat joe wants also ready retreat concern focuses son karl killed nazis us unseen since wwii ended'"
      ]
     },
     "execution_count": 57,
     "metadata": {},
     "output_type": "execute_result"
    }
   ],
   "source": [
    "genre = 'War'\n",
    "generate_genre_plot(df, genre, markov_model_whole)"
   ]
  },
  {
   "cell_type": "code",
   "execution_count": 58,
   "metadata": {
    "colab": {
     "base_uri": "https://localhost:8080/",
     "height": 104
    },
    "id": "ZYW02JWk5tlG",
    "outputId": "34a78134-488e-41aa-f8dc-aa4a49058329"
   },
   "outputs": [
    {
     "name": "stderr",
     "output_type": "stream",
     "text": [
      "100%|██████████| 147553/147553 [00:07<00:00, 19574.46it/s]\n",
      "100%|██████████| 22513/22513 [00:02<00:00, 9373.24it/s] \n"
     ]
    },
    {
     "data": {
      "application/vnd.google.colaboratory.intrinsic+json": {
       "type": "string"
      },
      "text/plain": [
       "'japanese learn song armies somehow remains forgiving communist fathers footsteps fleeing france chemist meng married early anger widow living atlantic maine instructions help join extended withdrawn 13yearold jackie demands motherhood waking 30 miles highway idea lucifer appears despondent suicide joins estranged cousin cabbage patch come busy medical funds purchase drugs'"
      ]
     },
     "execution_count": 58,
     "metadata": {},
     "output_type": "execute_result"
    }
   ],
   "source": [
    "genre = 'Drama'\n",
    "generate_genre_plot(df, genre, markov_model_whole)"
   ]
  },
  {
   "cell_type": "code",
   "execution_count": 59,
   "metadata": {
    "colab": {
     "base_uri": "https://localhost:8080/",
     "height": 104
    },
    "id": "C-KRVlbA22VU",
    "outputId": "071fc605-c918-4970-9b43-0b18da91dadf"
   },
   "outputs": [
    {
     "name": "stderr",
     "output_type": "stream",
     "text": [
      "100%|██████████| 138488/138488 [00:08<00:00, 15782.60it/s]\n",
      "100%|██████████| 22481/22481 [00:02<00:00, 8526.36it/s] \n"
     ]
    },
    {
     "data": {
      "application/vnd.google.colaboratory.intrinsic+json": {
       "type": "string"
      },
      "text/plain": [
       "'keeps revisiting film shes good response born meet barcelona driving others typical swiss women womens feelings moment cry wolf meet supporters getting day backyard style incorporates scenes transcend constructed rocks staying strong hostility safe trusting old 19 july 8th august ken creates matsumoto also sites wat troy running alone following'"
      ]
     },
     "execution_count": 59,
     "metadata": {},
     "output_type": "execute_result"
    }
   ],
   "source": [
    "genre = 'Documentary'\n",
    "generate_genre_plot(df, genre, markov_model_whole)"
   ]
  },
  {
   "cell_type": "code",
   "execution_count": 60,
   "metadata": {
    "colab": {
     "base_uri": "https://localhost:8080/",
     "height": 104
    },
    "id": "ggVP20FX5tup",
    "outputId": "c22b9739-ca89-426a-a2ca-cda57ca7430e"
   },
   "outputs": [
    {
     "name": "stderr",
     "output_type": "stream",
     "text": [
      "100%|██████████| 38226/38226 [00:01<00:00, 28725.17it/s]\n",
      "100%|██████████| 20038/20038 [00:00<00:00, 41131.78it/s]\n"
     ]
    },
    {
     "data": {
      "application/vnd.google.colaboratory.intrinsic+json": {
       "type": "string"
      },
      "text/plain": [
       "'decide spy obtain illegal sheltered teen reluctantly moving forward tv adaptation edgar horrified confronted terrifying unexplainable mystery 7 dormitory leave viewers breathless marine research owner samuel settles begin hunt carried term takes unfortunate soul turning wealthy estate entertainment around traditional predators quickly curse find protecting village guided find flesh alarmed'"
      ]
     },
     "execution_count": 60,
     "metadata": {},
     "output_type": "execute_result"
    }
   ],
   "source": [
    "genre = 'Horror'\n",
    "generate_genre_plot(df, genre, markov_model_whole)"
   ]
  },
  {
   "cell_type": "code",
   "execution_count": 53,
   "metadata": {
    "id": "8oROt_jI5txh"
   },
   "outputs": [],
   "source": []
  },
  {
   "cell_type": "code",
   "execution_count": 53,
   "metadata": {
    "id": "ZTx8jnWb5t0Q"
   },
   "outputs": [],
   "source": []
  },
  {
   "cell_type": "code",
   "execution_count": null,
   "metadata": {
    "id": "Qqa5XKZ05t3Z"
   },
   "outputs": [],
   "source": []
  },
  {
   "cell_type": "code",
   "execution_count": null,
   "metadata": {
    "id": "y08YJ3Uf5t6r"
   },
   "outputs": [],
   "source": []
  }
 ],
 "metadata": {
  "colab": {
   "provenance": []
  },
  "kernelspec": {
   "display_name": "Python 3",
   "name": "python3"
  },
  "language_info": {
   "name": "python"
  }
 },
 "nbformat": 4,
 "nbformat_minor": 0
}
